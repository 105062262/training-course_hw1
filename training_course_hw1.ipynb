{
  "nbformat": 4,
  "nbformat_minor": 0,
  "metadata": {
    "colab": {
      "name": "training-course_hw1.ipynb",
      "version": "0.3.2",
      "provenance": [],
      "collapsed_sections": [],
      "toc_visible": true,
      "include_colab_link": true
    },
    "kernelspec": {
      "name": "python3",
      "display_name": "Python 3"
    },
    "accelerator": "GPU"
  },
  "cells": [
    {
      "cell_type": "markdown",
      "metadata": {
        "id": "view-in-github",
        "colab_type": "text"
      },
      "source": [
        "<a href=\"https://colab.research.google.com/github/105062262/training-course_hw1/blob/master/training_course_hw1.ipynb\" target=\"_parent\"><img src=\"https://colab.research.google.com/assets/colab-badge.svg\" alt=\"Open In Colab\"/></a>"
      ]
    },
    {
      "metadata": {
        "id": "1kS1kA5cVgd6",
        "colab_type": "text"
      },
      "cell_type": "markdown",
      "source": [
        "## **Environment Setup**"
      ]
    },
    {
      "metadata": {
        "id": "41ulybCzVYrZ",
        "colab_type": "code",
        "colab": {}
      },
      "cell_type": "code",
      "source": [
        "!pip3 install torch torchvision tqdm matplotlib scikit-image"
      ],
      "execution_count": 0,
      "outputs": []
    },
    {
      "metadata": {
        "id": "3VWNHPO2VkS6",
        "colab_type": "text"
      },
      "cell_type": "markdown",
      "source": [
        "## **Download**"
      ]
    },
    {
      "metadata": {
        "id": "Y8rXKEeTViYS",
        "colab_type": "code",
        "colab": {}
      },
      "cell_type": "code",
      "source": [
        "!rm -rf ./ccpd5000/ && rm ccpd5000.tar.gz\n",
        "!wget https://github.com/amoshyc/cvlab-2019w-project/releases/download/v0.1/ccpd5000.tar.gz\n",
        "!tar zxvf ccpd5000.tar.gz\n",
        "!ls ccpd5000/**/*.jpg | wc -l # expected 6000 (5000 train/valid + 1000 test)"
      ],
      "execution_count": 0,
      "outputs": []
    },
    {
      "metadata": {
        "id": "cIrgCmhzVpCB",
        "colab_type": "code",
        "outputId": "515a81f0-a54b-4ffb-ba7e-7b6ddbe5b1cb",
        "colab": {
          "base_uri": "https://localhost:8080/",
          "height": 118
        }
      },
      "cell_type": "code",
      "source": [
        "from pathlib import Path\n",
        "\n",
        "img_dir = Path('./ccpd5000/train/')\n",
        "img_paths = img_dir.glob('*.jpg')\n",
        "img_paths = sorted(list(img_paths))\n",
        "\n",
        "print(len(img_paths))\n",
        "\n",
        "name = img_paths[0].name\n",
        "print(name)\n",
        "\n",
        "token = name.split('-')[3]\n",
        "print(token)\n",
        "\n",
        "token = token.replace('&', '_')\n",
        "print(token)\n",
        "\n",
        "values = token.split('_')\n",
        "print(values)\n",
        "\n",
        "values = [float(val) for val in values]\n",
        "print(values) "
      ],
      "execution_count": 0,
      "outputs": [
        {
          "output_type": "stream",
          "text": [
            "4000\n",
            "00307112068966-90_87-326&463_432&500-422&494_328&494_327&467_421&467-0_0_17_6_33_24_33-120-9.jpg\n",
            "422&494_328&494_327&467_421&467\n",
            "422_494_328_494_327_467_421_467\n",
            "['422', '494', '328', '494', '327', '467', '421', '467']\n",
            "[422.0, 494.0, 328.0, 494.0, 327.0, 467.0, 421.0, 467.0]\n"
          ],
          "name": "stdout"
        }
      ]
    },
    {
      "metadata": {
        "id": "KBp7w4NNVpt5",
        "colab_type": "text"
      },
      "cell_type": "markdown",
      "source": [
        "## **Util**"
      ]
    },
    {
      "metadata": {
        "id": "EZk9LuRXVsLR",
        "colab_type": "code",
        "colab": {}
      },
      "cell_type": "code",
      "source": [
        "import warnings\n",
        "\n",
        "import torch\n",
        "import numpy as np\n",
        "from PIL import Image, ImageDraw\n",
        "from skimage import util\n",
        "from skimage.transform import ProjectiveTransform, warp\n",
        "\n",
        "def draw_kpts(img, kpts, c='red', r=2.0):\n",
        "    '''Draw keypoints on image.\n",
        "    Args:\n",
        "        img: (PIL.Image) will be modified\n",
        "        kpts: (FloatTensor) keypoints in xy format, sized [8,]\n",
        "        c: (PIL.Color) color of keypoints, default to 'red'\n",
        "        r: (float) radius of keypoints, default to 2.0\n",
        "    Return:\n",
        "        img: (PIL.Image) modified image\n",
        "    '''\n",
        "    draw = ImageDraw.Draw(img)\n",
        "    kpts = kpts.view(4, 2)\n",
        "    kpts = kpts * torch.FloatTensor(img.size)\n",
        "    kpts = kpts.numpy().tolist()\n",
        "    for (x, y) in kpts:\n",
        "        draw.ellipse([x - r, y - r, x + r, y + r], fill=c)\n",
        "    return img\n",
        "\n",
        "\n",
        "def draw_plate(img, kpts):\n",
        "    '''Perspective tranform and draw the plate indicated by kpts to a 96x30 rectangle.\n",
        "    Args:\n",
        "        img: (PIL.Image) will be modified\n",
        "        kpts: (FloatTensor) keypoints in xy format, sized [8,]\n",
        "    Return:\n",
        "        img: (PIL.Image) modified image\n",
        "    Reference: http://scikit-image.org/docs/dev/auto_examples/xx_applications/plot_geometric.html\n",
        "    '''\n",
        "    src = np.float32([[96, 30], [0, 30], [0, 0], [96, 0]])\n",
        "    dst = kpts.view(4, 2).numpy()\n",
        "    dst = dst * np.float32(img.size)\n",
        "\n",
        "    transform = ProjectiveTransform()\n",
        "    transform.estimate(src, dst)\n",
        "    with warnings.catch_warnings(): # surpress skimage warning\n",
        "        warnings.simplefilter(\"ignore\")\n",
        "        warped = warp(np.array(img), transform, output_shape=(30, 96))\n",
        "        warped = util.img_as_ubyte(warped)\n",
        "    plate = Image.fromarray(warped)\n",
        "    img.paste(plate)\n",
        "    return img"
      ],
      "execution_count": 0,
      "outputs": []
    },
    {
      "metadata": {
        "id": "DB6Mg-qYVu-R",
        "colab_type": "text"
      },
      "cell_type": "markdown",
      "source": [
        "## **Data**"
      ]
    },
    {
      "metadata": {
        "id": "YL3wTiq_VxCx",
        "colab_type": "code",
        "outputId": "f88ec61a-be18-4a23-96b2-440b58aaa99a",
        "colab": {
          "base_uri": "https://localhost:8080/",
          "height": 34
        }
      },
      "cell_type": "code",
      "source": [
        "!ls"
      ],
      "execution_count": 0,
      "outputs": [
        {
          "output_type": "stream",
          "text": [
            "ccpd5000  ccpd5000.tar.gz  sample_data\n"
          ],
          "name": "stdout"
        }
      ]
    },
    {
      "metadata": {
        "id": "d0ucfdiHVxYB",
        "colab_type": "code",
        "outputId": "b8e4f53a-86ec-41fe-e8d5-d88b53c434af",
        "colab": {
          "base_uri": "https://localhost:8080/",
          "height": 67
        }
      },
      "cell_type": "code",
      "source": [
        "from PIL import Image\n",
        "from tqdm import tqdm\n",
        "from pathlib import Path\n",
        "\n",
        "import torch\n",
        "from torch.utils.data import DataLoader\n",
        "from torchvision.transforms import functional as tf\n",
        "\n",
        "class CCPD5000:\n",
        "  def __init__(self, img_dir):\n",
        "    self.img_dir = Path(img_dir)\n",
        "    self.img_paths = self.img_dir.glob('*.jpg')\n",
        "    self.img_paths = sorted(list(self.img_paths))\n",
        "    \n",
        "  def __len__(self):\n",
        "    return len(self.img_paths)\n",
        "  \n",
        "  def __getitem__(self, idx):\n",
        "    img_path = self.img_paths[idx]\n",
        "    \n",
        "    # load image\n",
        "    img = Image.open(img_path)\n",
        "    W, H = img.size\n",
        "    img = img.convert('RGB')\n",
        "    img = img.resize((192, 320))\n",
        "    img = tf.to_tensor(img)\n",
        "    \n",
        "    # parse annotation\n",
        "    name = img_path.name\n",
        "    token = name.split('-')[3]\n",
        "    token = token.replace('&', '_')\n",
        "    kpt = [float(val) for val in token.split('_')]\n",
        "    kpt = torch.tensor(kpt) # [8,]\n",
        "    kpt = kpt.view(4, 2) # [4, 2]\n",
        "    kpt = kpt / torch.FloatTensor([W, H])\n",
        "    kpt = kpt.view(-1) # [8,]\n",
        "    \n",
        "    return img, kpt\n",
        "  \n",
        "\n",
        "train_set = CCPD5000('./ccpd5000/train')\n",
        "print(len(train_set))\n",
        "\n",
        "img, kpt = train_set[-1]\n",
        "print(img.size())\n",
        "print(kpt.size())"
      ],
      "execution_count": 0,
      "outputs": [
        {
          "output_type": "stream",
          "text": [
            "4000\n",
            "torch.Size([3, 320, 192])\n",
            "torch.Size([8])\n"
          ],
          "name": "stdout"
        }
      ]
    },
    {
      "metadata": {
        "id": "eiFSSzUXV3Qa",
        "colab_type": "code",
        "outputId": "9037853d-a208-4d52-8071-7f3191d3bc58",
        "colab": {
          "base_uri": "https://localhost:8080/",
          "height": 34
        }
      },
      "cell_type": "code",
      "source": [
        "import torch\n",
        "from torch import nn\n",
        "from torch.nn import functional as F\n",
        "\n",
        "\n",
        "class ConvBlock(nn.Module):\n",
        "    def __init__(self, cin, cout):\n",
        "        super().__init__()\n",
        "        self.conv1 = nn.Conv2d(cin, cout, (3, 3), padding=1)\n",
        "        self.conv2 = nn.Conv2d(cout, cout, (3, 3), padding=1)\n",
        "        self.bn1 = nn.BatchNorm2d(cout)\n",
        "        self.bn2 = nn.BatchNorm2d(cout)\n",
        "        self.act1 = nn.ReLU() #self.act1 = nn.LeakyReLU()\n",
        "        self.act2 = nn.ReLU() #self.act2 = nn.LeakyReLU()\n",
        "    \n",
        "    def forward(self, x):\n",
        "        x = self.act1(self.bn1(self.conv1(x)))\n",
        "        x = self.act2(self.bn2(self.conv2(x)))\n",
        "        return x\n",
        "\n",
        "class CCPDRegressor(nn.Module):\n",
        "    def __init__(self):\n",
        "        super().__init__()\n",
        "        self.features = nn.Sequential(\n",
        "            ConvBlock(3, 32),\n",
        "            nn.MaxPool2d((8, 8)),\n",
        "            ConvBlock(32, 32),\n",
        "            nn.MaxPool2d((4, 4)),\n",
        "            ConvBlock(32, 64),\n",
        "            nn.MaxPool2d((2, 2)),\n",
        "            ConvBlock(64, 64),\n",
        "            nn.MaxPool2d((2, 2)),\n",
        "        )\n",
        "        self.regressor = nn.Sequential(\n",
        "            nn.Linear(128, 32),\n",
        "            nn.LeakyReLU(),\n",
        "            nn.Linear(32, 8),\n",
        "            nn.Sigmoid(),\n",
        "        )\n",
        "\n",
        "    def forward(self, x):\n",
        "        N = x.size(0)\n",
        "        x = self.features(x)\n",
        "        x = x.view(N, -1) # i.e. Flatten\n",
        "        x = self.regressor(x)\n",
        "        return x\n",
        "      \n",
        "# Check\n",
        "device = 'cuda'\n",
        "model = CCPDRegressor().to(device)\n",
        "img_b = torch.rand(16, 3, 192, 320).to(device)\n",
        "out_b = model(img_b)\n",
        "print(out_b.size()) # expected [16, 8]"
      ],
      "execution_count": 0,
      "outputs": [
        {
          "output_type": "stream",
          "text": [
            "torch.Size([16, 8])\n"
          ],
          "name": "stdout"
        }
      ]
    },
    {
      "metadata": {
        "id": "cKg3MqB-V63S",
        "colab_type": "text"
      },
      "cell_type": "markdown",
      "source": [
        "## **Train**"
      ]
    },
    {
      "metadata": {
        "id": "7j3KWHUNV8OD",
        "colab_type": "code",
        "outputId": "93bbf04c-d6e0-4978-c00b-5a064b2bbb4d",
        "colab": {
          "base_uri": "https://localhost:8080/",
          "height": 286
        }
      },
      "cell_type": "code",
      "source": [
        "!nvidia-smi"
      ],
      "execution_count": 0,
      "outputs": [
        {
          "output_type": "stream",
          "text": [
            "Thu Feb 21 11:13:07 2019       \n",
            "+-----------------------------------------------------------------------------+\n",
            "| NVIDIA-SMI 410.79       Driver Version: 410.79       CUDA Version: 10.0     |\n",
            "|-------------------------------+----------------------+----------------------+\n",
            "| GPU  Name        Persistence-M| Bus-Id        Disp.A | Volatile Uncorr. ECC |\n",
            "| Fan  Temp  Perf  Pwr:Usage/Cap|         Memory-Usage | GPU-Util  Compute M. |\n",
            "|===============================+======================+======================|\n",
            "|   0  Tesla K80           Off  | 00000000:00:04.0 Off |                    0 |\n",
            "| N/A   36C    P0    70W / 149W |   1102MiB / 11441MiB |      0%      Default |\n",
            "+-------------------------------+----------------------+----------------------+\n",
            "                                                                               \n",
            "+-----------------------------------------------------------------------------+\n",
            "| Processes:                                                       GPU Memory |\n",
            "|  GPU       PID   Type   Process name                             Usage      |\n",
            "|=============================================================================|\n",
            "+-----------------------------------------------------------------------------+\n"
          ],
          "name": "stdout"
        }
      ]
    },
    {
      "metadata": {
        "id": "ZCFv87WVl6d-",
        "colab_type": "code",
        "colab": {}
      },
      "cell_type": "code",
      "source": [
        "#!rm -rf ./log/'2019.02.21-10:27:57'"
      ],
      "execution_count": 0,
      "outputs": []
    },
    {
      "metadata": {
        "id": "5tu-x6wmV-Li",
        "colab_type": "code",
        "outputId": "ed72262a-3222-4081-a8b5-603f03745932",
        "colab": {
          "base_uri": "https://localhost:8080/",
          "height": 1378
        }
      },
      "cell_type": "code",
      "source": [
        "import json\n",
        "import random\n",
        "import numpy as np\n",
        "from tqdm import tqdm\n",
        "from pathlib import Path\n",
        "from datetime import datetime\n",
        "\n",
        "import pandas as pd\n",
        "import matplotlib.pyplot as plt\n",
        "plt.style.use('seaborn')\n",
        "\n",
        "import torch\n",
        "from torch import nn\n",
        "from torch.nn import functional as F\n",
        "from torchvision.utils import save_image\n",
        "from torch.utils.data import Subset, ConcatDataset, DataLoader\n",
        "from torchvision.transforms import functional as tf\n",
        "\n",
        "# For reproducibility\n",
        "# Set before loading model and dataset\n",
        "seed = 999\n",
        "random.seed(seed)\n",
        "np.random.seed(seed)\n",
        "torch.manual_seed(seed)\n",
        "torch.backends.cudnn.deterministic = True\n",
        "\n",
        "train_set = CCPD5000('./ccpd5000/train/')\n",
        "valid_set = CCPD5000('./ccpd5000/valid/')\n",
        "visul_set = ConcatDataset([\n",
        "    Subset(train_set, random.sample(range(len(train_set)), 32)),\n",
        "    Subset(valid_set, random.sample(range(len(valid_set)), 32)),\n",
        "])\n",
        "train_loader = DataLoader(train_set, 32, shuffle=True, num_workers=3)\n",
        "valid_loader = DataLoader(valid_set, 32, shuffle=False, num_workers=1)\n",
        "visul_loader = DataLoader(visul_set, 32, shuffle=False, num_workers=1)\n",
        "\n",
        "\n",
        "learning_rate = 8e-4 #change lr\n",
        "device = 'cuda'\n",
        "model = CCPDRegressor().to(device)\n",
        "criterion = nn.L1Loss().to(device)\n",
        "optimizer = torch.optim.Adam(model.parameters(), lr=learning_rate)\n",
        "\n",
        "log_dir = Path('./log/') / f'{datetime.now():%Y.%m.%d-%H:%M:%S}'\n",
        "log_dir.mkdir(parents=True)\n",
        "print(log_dir)\n",
        "history = {\n",
        "    'train_mae': [],\n",
        "    'valid_mae': [],\n",
        "    'train_mse': [],\n",
        "    'valid_mse': [],\n",
        "}\n",
        "\n",
        "\n",
        "def train(pbar):\n",
        "    model.train()\n",
        "    mae_steps = []\n",
        "    mse_steps = []\n",
        "\n",
        "    for img_b, kpt_b in iter(train_loader):\n",
        "        img_b = img_b.to(device)\n",
        "        kpt_b = kpt_b.to(device)\n",
        "\n",
        "        optimizer.zero_grad()\n",
        "        pred_b = model(img_b)\n",
        "        loss = criterion(pred_b, kpt_b)\n",
        "        loss.backward()\n",
        "        optimizer.step()\n",
        "\n",
        "        mae = loss.detach().item()\n",
        "        mse = F.mse_loss(pred_b.detach(), kpt_b.detach()).item()\n",
        "        mae_steps.append(mae)\n",
        "        mse_steps.append(mse)\n",
        "\n",
        "        pbar.set_postfix(mae=mae, mse=mse)\n",
        "        pbar.update(img_b.size(0))\n",
        "\n",
        "    avg_mae = sum(mae_steps) / len(mae_steps)\n",
        "    avg_mse = sum(mse_steps) / len(mse_steps)\n",
        "    pbar.set_postfix(avg_mae=f'{avg_mae:.5f}', avg_mse=f'{avg_mse:.5f}')\n",
        "    history['train_mae'].append(avg_mae)\n",
        "    history['train_mse'].append(avg_mse)\n",
        "\n",
        "\n",
        "def valid(pbar):\n",
        "    model.eval()\n",
        "    mae_steps = []\n",
        "    mse_steps = []\n",
        "\n",
        "    for img_b, kpt_b in iter(valid_loader):\n",
        "        img_b = img_b.to(device)\n",
        "        kpt_b = kpt_b.to(device)\n",
        "        pred_b = model(img_b)\n",
        "        loss = criterion(pred_b, kpt_b)\n",
        "        mae = loss.detach().item()\n",
        "\n",
        "        mse = F.mse_loss(pred_b.detach(), kpt_b.detach()).item()\n",
        "        mae_steps.append(mae)\n",
        "        mse_steps.append(mse)\n",
        "\n",
        "        pbar.set_postfix(mae=mae, mse=mse)\n",
        "        pbar.update(img_b.size(0))\n",
        "\n",
        "    avg_mae = sum(mae_steps) / len(mae_steps)\n",
        "    avg_mse = sum(mse_steps) / len(mse_steps)\n",
        "    pbar.set_postfix(avg_mae=f'{avg_mae:.5f}', avg_mse=f'{avg_mse:.5f}')\n",
        "    history['valid_mae'].append(avg_mae)\n",
        "    history['valid_mse'].append(avg_mse)\n",
        "\n",
        "\n",
        "def visul(pbar, epoch):\n",
        "    model.eval()\n",
        "    epoch_dir = log_dir / f'{epoch:03d}'\n",
        "    epoch_dir.mkdir()\n",
        "    for img_b, kpt_b in iter(visul_loader):\n",
        "        pred_b = model(img_b.to(device)).cpu()\n",
        "        for img, pred_kpt, true_kpt in zip(img_b, pred_b, kpt_b):\n",
        "            img = tf.to_pil_image(img)\n",
        "            vis = draw_plate(img, pred_kpt)\n",
        "            vis = draw_kpts(vis, true_kpt, c='orange')\n",
        "            vis = draw_kpts(vis, pred_kpt, c='red')\n",
        "            vis.save(epoch_dir / f'{pbar.n:03d}.jpg')\n",
        "            pbar.update()\n",
        "\n",
        "\n",
        "def log(epoch):\n",
        "    with (log_dir / 'metrics.json').open('w') as f:\n",
        "        json.dump(history, f)\n",
        "\n",
        "    fig, ax = plt.subplots(2, 1, figsize=(6, 6), dpi=100)\n",
        "    ax[0].set_title('MAE')\n",
        "    ax[0].plot(range(epoch + 1), history['train_mae'], label='Train')\n",
        "    ax[0].plot(range(epoch + 1), history['valid_mae'], label='Valid')\n",
        "    ax[0].legend()\n",
        "    ax[1].set_title('MSE')\n",
        "    ax[1].plot(range(epoch + 1), history['train_mse'], label='Train')\n",
        "    ax[1].plot(range(epoch + 1), history['valid_mse'], label='Valid')\n",
        "    ax[1].legend()\n",
        "    fig.savefig(str(log_dir / 'metrics.jpg'))\n",
        "    plt.close()\n",
        "    \n",
        "    #save\n",
        "    if torch.tensor(history['valid_mse']).argmin() == epoch:\n",
        "      torch.save(model.state_dict(), str(log_dir/'model.pth'))\n",
        "\n",
        "    \n",
        "#update lr\n",
        "def update_lr(optimizer, lr):    \n",
        "    for param_group in optimizer.param_groups:\n",
        "        param_group['lr'] = lr\n",
        "    \n",
        "curr_lr = learning_rate\n",
        "for epoch in range(20): #10->20\n",
        "    print('Epoch', epoch, flush=True)\n",
        "    with tqdm(total=len(train_set), desc='  Train') as pbar:\n",
        "        train(pbar)\n",
        "\n",
        "    with torch.no_grad():\n",
        "        with tqdm(total=len(valid_set), desc='  Valid') as pbar:\n",
        "            valid(pbar)\n",
        "        with tqdm(total=len(visul_set), desc='  Visul') as pbar:\n",
        "            visul(pbar, epoch)\n",
        "        log(epoch)\n",
        "    \n",
        "    #lr decay\n",
        "    if (epoch+1) % 7 == 0:\n",
        "        curr_lr *= 0.5\n",
        "        update_lr(optimizer, curr_lr)"
      ],
      "execution_count": 0,
      "outputs": [
        {
          "output_type": "stream",
          "text": [
            "log/2019.02.21-11:13:10\n",
            "Epoch 0\n"
          ],
          "name": "stdout"
        },
        {
          "output_type": "stream",
          "text": [
            "  Train: 100%|██████████| 4000/4000 [01:48<00:00, 46.70it/s, avg_mae=0.03519, avg_mse=0.00317]\n",
            "  Valid: 100%|██████████| 1000/1000 [00:35<00:00, 30.70it/s, avg_mae=0.01969, avg_mse=0.00081]\n",
            "  Visul: 100%|██████████| 64/64 [00:03<00:00, 20.05it/s]\n"
          ],
          "name": "stderr"
        },
        {
          "output_type": "stream",
          "text": [
            "Epoch 1\n"
          ],
          "name": "stdout"
        },
        {
          "output_type": "stream",
          "text": [
            "  Train: 100%|██████████| 4000/4000 [01:49<00:00, 49.86it/s, avg_mae=0.01647, avg_mse=0.00055]\n",
            "  Valid: 100%|██████████| 1000/1000 [00:34<00:00, 32.17it/s, avg_mae=0.01398, avg_mse=0.00043]\n",
            "  Visul: 100%|██████████| 64/64 [00:03<00:00, 20.14it/s]\n"
          ],
          "name": "stderr"
        },
        {
          "output_type": "stream",
          "text": [
            "Epoch 2\n"
          ],
          "name": "stdout"
        },
        {
          "output_type": "stream",
          "text": [
            "  Train: 100%|██████████| 4000/4000 [01:50<00:00, 46.94it/s, avg_mae=0.01281, avg_mse=0.00033]\n",
            "  Valid: 100%|██████████| 1000/1000 [00:34<00:00, 31.95it/s, avg_mae=0.01181, avg_mse=0.00031]\n",
            "  Visul: 100%|██████████| 64/64 [00:03<00:00, 18.61it/s]\n"
          ],
          "name": "stderr"
        },
        {
          "output_type": "stream",
          "text": [
            "Epoch 3\n"
          ],
          "name": "stdout"
        },
        {
          "output_type": "stream",
          "text": [
            "  Train: 100%|██████████| 4000/4000 [01:51<00:00, 44.94it/s, avg_mae=0.01170, avg_mse=0.00027]\n",
            "  Valid: 100%|██████████| 1000/1000 [00:34<00:00, 30.98it/s, avg_mae=0.01355, avg_mse=0.00037]\n",
            "  Visul: 100%|██████████| 64/64 [00:03<00:00, 18.95it/s]\n"
          ],
          "name": "stderr"
        },
        {
          "output_type": "stream",
          "text": [
            "Epoch 4\n"
          ],
          "name": "stdout"
        },
        {
          "output_type": "stream",
          "text": [
            "  Train: 100%|██████████| 4000/4000 [01:51<00:00, 43.30it/s, avg_mae=0.01084, avg_mse=0.00023]\n",
            "  Valid: 100%|██████████| 1000/1000 [00:34<00:00, 31.52it/s, avg_mae=0.01090, avg_mse=0.00023]\n",
            "  Visul: 100%|██████████| 64/64 [00:03<00:00, 20.30it/s]\n"
          ],
          "name": "stderr"
        },
        {
          "output_type": "stream",
          "text": [
            "Epoch 5\n"
          ],
          "name": "stdout"
        },
        {
          "output_type": "stream",
          "text": [
            "  Train: 100%|██████████| 4000/4000 [01:50<00:00, 49.12it/s, avg_mae=0.00993, avg_mse=0.00019]\n",
            "  Valid: 100%|██████████| 1000/1000 [00:34<00:00, 30.88it/s, avg_mae=0.01067, avg_mse=0.00022]\n",
            "  Visul: 100%|██████████| 64/64 [00:03<00:00, 21.91it/s]\n"
          ],
          "name": "stderr"
        },
        {
          "output_type": "stream",
          "text": [
            "Epoch 6\n"
          ],
          "name": "stdout"
        },
        {
          "output_type": "stream",
          "text": [
            "  Train: 100%|██████████| 4000/4000 [01:50<00:00, 49.81it/s, avg_mae=0.00959, avg_mse=0.00018]\n",
            "  Valid: 100%|██████████| 1000/1000 [00:34<00:00, 31.44it/s, avg_mae=0.00989, avg_mse=0.00020]\n",
            "  Visul: 100%|██████████| 64/64 [00:03<00:00, 20.29it/s]\n"
          ],
          "name": "stderr"
        },
        {
          "output_type": "stream",
          "text": [
            "Epoch 7\n"
          ],
          "name": "stdout"
        },
        {
          "output_type": "stream",
          "text": [
            "  Train: 100%|██████████| 4000/4000 [01:50<00:00, 51.69it/s, avg_mae=0.00796, avg_mse=0.00012]\n",
            "  Valid: 100%|██████████| 1000/1000 [00:34<00:00, 31.88it/s, avg_mae=0.00889, avg_mse=0.00016]\n",
            "  Visul: 100%|██████████| 64/64 [00:03<00:00, 20.21it/s]\n"
          ],
          "name": "stderr"
        },
        {
          "output_type": "stream",
          "text": [
            "Epoch 8\n"
          ],
          "name": "stdout"
        },
        {
          "output_type": "stream",
          "text": [
            "  Train: 100%|██████████| 4000/4000 [01:51<00:00, 44.33it/s, avg_mae=0.00777, avg_mse=0.00012]\n",
            "  Valid: 100%|██████████| 1000/1000 [00:34<00:00, 30.67it/s, avg_mae=0.00912, avg_mse=0.00016]\n",
            "  Visul: 100%|██████████| 64/64 [00:03<00:00, 19.68it/s]\n"
          ],
          "name": "stderr"
        },
        {
          "output_type": "stream",
          "text": [
            "Epoch 9\n"
          ],
          "name": "stdout"
        },
        {
          "output_type": "stream",
          "text": [
            "  Train: 100%|██████████| 4000/4000 [01:50<00:00, 52.61it/s, avg_mae=0.00739, avg_mse=0.00011]\n",
            "  Valid: 100%|██████████| 1000/1000 [00:34<00:00, 31.19it/s, avg_mae=0.00830, avg_mse=0.00014]\n",
            "  Visul: 100%|██████████| 64/64 [00:03<00:00, 20.65it/s]\n"
          ],
          "name": "stderr"
        },
        {
          "output_type": "stream",
          "text": [
            "Epoch 10\n"
          ],
          "name": "stdout"
        },
        {
          "output_type": "stream",
          "text": [
            "  Train: 100%|██████████| 4000/4000 [01:50<00:00, 53.16it/s, avg_mae=0.00734, avg_mse=0.00010]\n",
            "  Valid: 100%|██████████| 1000/1000 [00:35<00:00, 29.05it/s, avg_mae=0.00816, avg_mse=0.00014]\n",
            "  Visul: 100%|██████████| 64/64 [00:03<00:00, 19.14it/s]\n"
          ],
          "name": "stderr"
        },
        {
          "output_type": "stream",
          "text": [
            "Epoch 11\n"
          ],
          "name": "stdout"
        },
        {
          "output_type": "stream",
          "text": [
            "  Train: 100%|██████████| 4000/4000 [01:51<00:00, 49.23it/s, avg_mae=0.00695, avg_mse=0.00010]\n",
            "  Valid: 100%|██████████| 1000/1000 [00:35<00:00, 29.71it/s, avg_mae=0.00821, avg_mse=0.00014]\n",
            "  Visul: 100%|██████████| 64/64 [00:03<00:00, 19.31it/s]\n"
          ],
          "name": "stderr"
        },
        {
          "output_type": "stream",
          "text": [
            "Epoch 12\n"
          ],
          "name": "stdout"
        },
        {
          "output_type": "stream",
          "text": [
            "  Train: 100%|██████████| 4000/4000 [01:50<00:00, 44.52it/s, avg_mae=0.00685, avg_mse=0.00009]\n",
            "  Valid: 100%|██████████| 1000/1000 [00:34<00:00, 31.95it/s, avg_mae=0.00833, avg_mse=0.00015]\n",
            "  Visul: 100%|██████████| 64/64 [00:03<00:00, 20.18it/s]\n"
          ],
          "name": "stderr"
        },
        {
          "output_type": "stream",
          "text": [
            "Epoch 13\n"
          ],
          "name": "stdout"
        },
        {
          "output_type": "stream",
          "text": [
            "  Train: 100%|██████████| 4000/4000 [01:51<00:00, 50.42it/s, avg_mae=0.00697, avg_mse=0.00009]\n",
            "  Valid: 100%|██████████| 1000/1000 [00:34<00:00, 31.06it/s, avg_mae=0.00808, avg_mse=0.00014]\n",
            "  Visul: 100%|██████████| 64/64 [00:03<00:00, 19.71it/s]\n"
          ],
          "name": "stderr"
        },
        {
          "output_type": "stream",
          "text": [
            "Epoch 14\n"
          ],
          "name": "stdout"
        },
        {
          "output_type": "stream",
          "text": [
            "  Train: 100%|██████████| 4000/4000 [01:51<00:00, 47.31it/s, avg_mae=0.00626, avg_mse=0.00008]\n",
            "  Valid: 100%|██████████| 1000/1000 [00:34<00:00, 31.47it/s, avg_mae=0.00784, avg_mse=0.00013]\n",
            "  Visul: 100%|██████████| 64/64 [00:03<00:00, 17.86it/s]\n"
          ],
          "name": "stderr"
        },
        {
          "output_type": "stream",
          "text": [
            "Epoch 15\n"
          ],
          "name": "stdout"
        },
        {
          "output_type": "stream",
          "text": [
            "  Train: 100%|██████████| 4000/4000 [01:52<00:00, 46.00it/s, avg_mae=0.00596, avg_mse=0.00007]\n",
            "  Valid: 100%|██████████| 1000/1000 [00:34<00:00, 30.13it/s, avg_mae=0.00796, avg_mse=0.00013]\n",
            "  Visul: 100%|██████████| 64/64 [00:03<00:00, 17.05it/s]\n"
          ],
          "name": "stderr"
        },
        {
          "output_type": "stream",
          "text": [
            "Epoch 16\n"
          ],
          "name": "stdout"
        },
        {
          "output_type": "stream",
          "text": [
            "  Train: 100%|██████████| 4000/4000 [01:45<00:00, 54.73it/s, avg_mae=0.00589, avg_mse=0.00007]\n",
            "  Valid: 100%|██████████| 1000/1000 [00:31<00:00, 34.35it/s, avg_mae=0.00786, avg_mse=0.00013]\n",
            "  Visul: 100%|██████████| 64/64 [00:02<00:00, 17.68it/s]\n"
          ],
          "name": "stderr"
        },
        {
          "output_type": "stream",
          "text": [
            "Epoch 17\n"
          ],
          "name": "stdout"
        },
        {
          "output_type": "stream",
          "text": [
            "  Train: 100%|██████████| 4000/4000 [01:44<00:00, 45.32it/s, avg_mae=0.00580, avg_mse=0.00007]\n",
            "  Valid: 100%|██████████| 1000/1000 [00:33<00:00, 33.35it/s, avg_mae=0.00819, avg_mse=0.00014]\n",
            "  Visul: 100%|██████████| 64/64 [00:03<00:00, 21.26it/s]\n"
          ],
          "name": "stderr"
        },
        {
          "output_type": "stream",
          "text": [
            "Epoch 18\n"
          ],
          "name": "stdout"
        },
        {
          "output_type": "stream",
          "text": [
            "  Train: 100%|██████████| 4000/4000 [01:41<00:00, 51.24it/s, avg_mae=0.00583, avg_mse=0.00007]\n",
            "  Valid: 100%|██████████| 1000/1000 [00:31<00:00, 34.62it/s, avg_mae=0.00818, avg_mse=0.00013]\n",
            "  Visul: 100%|██████████| 64/64 [00:02<00:00, 21.95it/s]\n"
          ],
          "name": "stderr"
        },
        {
          "output_type": "stream",
          "text": [
            "Epoch 19\n"
          ],
          "name": "stdout"
        },
        {
          "output_type": "stream",
          "text": [
            "  Train: 100%|██████████| 4000/4000 [01:40<00:00, 61.64it/s, avg_mae=0.00568, avg_mse=0.00006]\n",
            "  Valid: 100%|██████████| 1000/1000 [00:30<00:00, 35.17it/s, avg_mae=0.00800, avg_mse=0.00013]\n",
            "  Visul: 100%|██████████| 64/64 [00:02<00:00, 22.61it/s]\n"
          ],
          "name": "stderr"
        }
      ]
    },
    {
      "metadata": {
        "id": "0gSD8z1vWDvO",
        "colab_type": "code",
        "colab": {}
      },
      "cell_type": "code",
      "source": [
        "display.Image(str(log_dir / 'metrics.jpg'))"
      ],
      "execution_count": 0,
      "outputs": []
    },
    {
      "metadata": {
        "id": "5riF9eptWEJc",
        "colab_type": "code",
        "colab": {}
      },
      "cell_type": "code",
      "source": [
        "display.Image(str(log_dir / '009' / '000.jpg')) # 0 ~ 31 are training images' visualization"
      ],
      "execution_count": 0,
      "outputs": []
    },
    {
      "metadata": {
        "id": "24mZA0fhWGCr",
        "colab_type": "code",
        "colab": {}
      },
      "cell_type": "code",
      "source": [
        "display.Image(str(log_dir / '009' / '032.jpg')) # 32 ~ 63 are validation images' visualization"
      ],
      "execution_count": 0,
      "outputs": []
    },
    {
      "metadata": {
        "id": "8WAi7iGOWIDr",
        "colab_type": "text"
      },
      "cell_type": "markdown",
      "source": [
        "## **Test**"
      ]
    },
    {
      "metadata": {
        "id": "-CNbz99BAmEB",
        "colab_type": "code",
        "colab": {}
      },
      "cell_type": "code",
      "source": [
        "#!rm -rf ./log/result/'2019.02.21-09:17:19'\n",
        "#!rm -rf ./log/'2019.02.21-08:10:12'"
      ],
      "execution_count": 0,
      "outputs": []
    },
    {
      "metadata": {
        "id": "ak1lpYT9WJUL",
        "colab_type": "code",
        "outputId": "a1948903-a64a-4ade-f72b-b9ddbf02e130",
        "colab": {
          "base_uri": "https://localhost:8080/",
          "height": 50
        }
      },
      "cell_type": "code",
      "source": [
        "from PIL import Image\n",
        "from tqdm import tqdm\n",
        "from pathlib import Path\n",
        "from datetime import datetime\n",
        "from PIL import Image\n",
        "import pandas as pd\n",
        "\n",
        "import torch\n",
        "from torch.utils.data import DataLoader\n",
        "from torchvision.transforms import functional as tf\n",
        "\n",
        "class CCPD5000Test:\n",
        "  def __init__(self, img_dir):\n",
        "    self.img_dir = Path(img_dir)\n",
        "    self.img_paths = self.img_dir.glob('*.jpg')\n",
        "    self.img_paths = sorted(list(self.img_paths))\n",
        "    \n",
        "  def __len__(self):\n",
        "    return len(self.img_paths)\n",
        "  \n",
        "  def __getitem__(self, idx):\n",
        "    img_path = self.img_paths[idx]\n",
        "    \n",
        "    # load image\n",
        "    img = Image.open(img_path)\n",
        "    img = img.convert('RGB')\n",
        "    img = img.resize((192, 320))\n",
        "    img = tf.to_tensor(img)\n",
        "    \n",
        "    return img\n",
        "\n",
        "test_set = CCPD5000Test('./ccpd5000/test/')\n",
        "test_loader = DataLoader(test_set, 32, shuffle=False, num_workers=3)\n",
        "\n",
        "device = 'cuda'\n",
        "model = CCPDRegressor().to(device)\n",
        "model.load_state_dict(torch.load('log/2019.02.21-11:13:10/model.pth'))    #resume\n",
        "\n",
        "log_dir = Path('./log/') / 'result' / f'{datetime.now():%Y.%m.%d-%H:%M:%S}'\n",
        "log_dir.mkdir(parents=True)\n",
        "print(log_dir)\n",
        "\n",
        "def test(pbar):\n",
        "    model.eval()\n",
        "    corner = []\n",
        "    for img_b in iter(test_loader):\n",
        "        kpt_b = model(img_b.to(device)).cpu()\n",
        "        for img, kpt in zip(img_b, kpt_b):\n",
        "            img = tf.to_pil_image(img)\n",
        "            vis = draw_plate(img, kpt)\n",
        "            vis = draw_kpts(vis, kpt, c='red')\n",
        "            vis.save(log_dir / f'{pbar.n:03d}_test.jpg')\n",
        "            corner.append([f'{pbar.n:03d}.jpg', *kpt.numpy().tolist()])\n",
        "            pbar.update()\n",
        "    return pd.DataFrame(corner)\n",
        "\n",
        "\n",
        "with torch.no_grad():\n",
        "    with tqdm(total=len(test_set)) as pbar:\n",
        "        df_pred = test(pbar)\n",
        "    df_pred.columns = ['name', 'BR_x', 'BR_y', 'BL_x', 'BL_y', 'TL_x', 'TL_y', 'TR_x', 'TR_y']\n",
        "    df_pred.to_csv(log_dir / 'test_pred_Cheong.csv', float_format='%.5f', index=False)"
      ],
      "execution_count": 0,
      "outputs": [
        {
          "output_type": "stream",
          "text": [
            "\r  0%|          | 0/1000 [00:00<?, ?it/s]"
          ],
          "name": "stderr"
        },
        {
          "output_type": "stream",
          "text": [
            "log/result/2019.02.21-12:04:48\n"
          ],
          "name": "stdout"
        },
        {
          "output_type": "stream",
          "text": [
            "100%|██████████| 1000/1000 [00:40<00:00, 24.59it/s]\n"
          ],
          "name": "stderr"
        }
      ]
    }
  ]
}