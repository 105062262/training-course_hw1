{
  "nbformat": 4,
  "nbformat_minor": 0,
  "metadata": {
    "colab": {
      "name": "visualization.ipynb",
      "version": "0.3.2",
      "provenance": [],
      "collapsed_sections": [],
      "include_colab_link": true
    },
    "kernelspec": {
      "name": "python3",
      "display_name": "Python 3"
    }
  },
  "cells": [
    {
      "cell_type": "markdown",
      "metadata": {
        "id": "view-in-github",
        "colab_type": "text"
      },
      "source": [
        "<a href=\"https://colab.research.google.com/github/105062262/training-course_hw1/blob/master/visualization.ipynb\" target=\"_parent\"><img src=\"https://colab.research.google.com/assets/colab-badge.svg\" alt=\"Open In Colab\"/></a>"
      ]
    },
    {
      "metadata": {
        "id": "hQ8GwOTG96Ex",
        "colab_type": "text"
      },
      "cell_type": "markdown",
      "source": [
        "##**Train images' visualization & Valid images' visualization**\n",
        "train: ![009.jpg](https://i.screenshot.net/w5y0vby)<br>\n",
        "valid: ![058.jpg](https://i.screenshot.net/e1867sn)\n"
      ]
    },
    {
      "metadata": {
        "id": "5sowZzJF978O",
        "colab_type": "text"
      },
      "cell_type": "markdown",
      "source": [
        "## **MAE & MSE visualization**\n",
        "![MAE&MSE](https://i.screenshot.net/pnvwef4)"
      ]
    },
    {
      "metadata": {
        "id": "vo1f8cr7-JI_",
        "colab_type": "text"
      },
      "cell_type": "markdown",
      "source": [
        "## **Test images' visualization**\n",
        "![010_test.jpg](https://i.screenshot.net/yk43xsw)\n",
        "![047_test.jpg](https://i.screenshot.net/2q79mcp))\n",
        "![072_test.jpg](https://i.screenshot.net/y5qp3bm)\n",
        "![244_test.jpg](https://i.screenshot.net/e31ylh3)\n",
        "![300_test.jpg](https://i.screenshot.net/pj1o4bm)\n",
        "![429_test.jpg](https://i.screenshot.net/2d49ocp)\n",
        "![538_test.jpg](https://i.screenshot.net/yen58tq)\n",
        "![622_test.jpg](https://i.screenshot.net/80pglfq)\n",
        "![819_test.jpg](https://i.screenshot.net/28knduk)\n",
        "![963_test.jpg](https://i.screenshot.net/pg1kxfx)"
      ]
    }
  ]
}